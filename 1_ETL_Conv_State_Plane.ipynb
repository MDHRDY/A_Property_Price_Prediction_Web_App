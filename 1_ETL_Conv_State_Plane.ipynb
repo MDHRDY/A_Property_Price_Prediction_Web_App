{
 "cells": [
  {
   "cell_type": "markdown",
   "metadata": {},
   "source": [
    "# A Price Prediction Web App - ETL Notebook 1"
   ]
  },
  {
   "cell_type": "markdown",
   "metadata": {},
   "source": [
    "The central steps in the ETL process for this project are:  \n",
    "1. convert state plane coordinates, from the Dep. of City Planning, into standard Lat Long coordinates (This notebook)\n",
    "2. aggregate ~ 60 Dep. of Finance sales data sets - spread across five boroughs and twelve years (Notebook 2)\n",
    "3. Merge the Dep. of Finance and Dep. of City Planning Datasets (Notebook 2)"
   ]
  },
  {
   "cell_type": "markdown",
   "metadata": {},
   "source": [
    "### Locations of the three sources: \n",
    "1. NYC Dep. of City Planning (has GPS coordinates for all NYC properties):  \n",
    "   http://www1.nyc.gov/site/planning/data-maps/open-data/dwn-pluto-mappluto.page\n",
    "2. NYC Dep. of Finance (tracks sales of all NYC properties):  \n",
    "   https://www1.nyc.gov/site/finance/taxes/property-annualized-sales-update.page\n",
    "3. NYTimes Real Estate Section (current listings on the market):      \n",
    "   https://www.nytimes.com/section/realestate  \n",
    "   The web scraper I built to pull listings off of the nytimes website: \n",
    "   https://github.com/MDHRDY/A_NY_Times_Real_Estate_Web_Scraper"
   ]
  },
  {
   "cell_type": "markdown",
   "metadata": {},
   "source": [
    "## Notebook 1: Generate GPS Coordinates From Dep. of Finance Dataset"
   ]
  },
  {
   "cell_type": "markdown",
   "metadata": {},
   "source": [
    "### Outline\n",
    "1 [Load Libraries and Dep. of City Planning datasets](#load)  \n",
    "2 [Convert State Plane Coordinates to Lat Long Coordinates](#gps)  \n",
    "3 [Save dataframe w/ converted coordinates to file](#to_file)"
   ]
  },
  {
   "cell_type": "markdown",
   "metadata": {},
   "source": [
    "<a id='load'></a>\n",
    "### Load Libraries and Dep. of City Planning datasets"
   ]
  },
  {
   "cell_type": "code",
   "execution_count": 10,
   "metadata": {
    "collapsed": true
   },
   "outputs": [],
   "source": [
    "import pandas\n",
    "import numpy as np\n",
    "import warnings\n",
    "warnings.filterwarnings('ignore')\n",
    "options.display.max_columns = 100"
   ]
  },
  {
   "cell_type": "markdown",
   "metadata": {},
   "source": [
    "Read downloaded Dep. of Finance csv from each borough into dataframe"
   ]
  },
  {
   "cell_type": "code",
   "execution_count": 7,
   "metadata": {
    "collapsed": true
   },
   "outputs": [],
   "source": [
    "path = \"/masked/nyc_project/csvs/nyc_pluto_16v1/\"\n",
    "bk = read_csv(path + 'BK.csv', low_memory=False)\n",
    "bx = read_csv(path + 'BX.csv', low_memory=False)\n",
    "mn = read_csv(path + 'MN.csv', low_memory=False)\n",
    "qn = read_csv(path + 'QN.csv', low_memory=False)\n",
    "si = read_csv(path + 'SI.csv', low_memory=False)"
   ]
  },
  {
   "cell_type": "markdown",
   "metadata": {},
   "source": [
    "Label each borough before aggregating together"
   ]
  },
  {
   "cell_type": "code",
   "execution_count": 8,
   "metadata": {
    "collapsed": false
   },
   "outputs": [
    {
     "name": "stdout",
     "output_type": "stream",
     "text": [
      "Shape of master dataframe:  (859205, 87)\n"
     ]
    }
   ],
   "source": [
    "mn['B'] = 1\n",
    "bx['B'] = 2\n",
    "bk['B'] = 3\n",
    "qn['B'] = 4\n",
    "si['B'] = 5\n",
    "\n",
    "boroughs = [mn,bx,bk,qn, si]\n",
    "Lat_Long_File = concat(boroughs)\n",
    "print 'Shape of master dataframe: ',Lat_Long_File.shape"
   ]
  },
  {
   "cell_type": "markdown",
   "metadata": {},
   "source": [
    "<a id='gps'></a>\n",
    "### Convert State Plane Coordinates to Lat Long Coordinates"
   ]
  },
  {
   "cell_type": "code",
   "execution_count": 14,
   "metadata": {
    "collapsed": false
   },
   "outputs": [
    {
     "name": "stdout",
     "output_type": "stream",
     "text": [
      "Detect missing values:  25023\n"
     ]
    }
   ],
   "source": [
    "print 'Detect missing values: ', Lat_Long_File.XCoord.isnull().sum()"
   ]
  },
  {
   "cell_type": "markdown",
   "metadata": {},
   "source": [
    "pyproj -> performs cartographic transformations \n",
    "\n",
    "Convert between the following two gps systems:  \n",
    "wgs84 -> The World Geodetic System - latest revision 1984  \n",
    "spft -> state plane feet coordinate system (used by Dep. of Finance)"
   ]
  },
  {
   "cell_type": "code",
   "execution_count": 23,
   "metadata": {
    "collapsed": true
   },
   "outputs": [],
   "source": [
    "import pyproj as pp\n",
    "import math\n",
    "wgs84  = pp.Proj(\"+init=EPSG:4326\")\n",
    "spft = pp.Proj(\"+init=ESRI:102318 +units=us-ft\", preserve_units=True)"
   ]
  },
  {
   "cell_type": "markdown",
   "metadata": {},
   "source": [
    "np.isfinite tests element-wise for finiteness"
   ]
  },
  {
   "cell_type": "code",
   "execution_count": 21,
   "metadata": {
    "collapsed": false
   },
   "outputs": [
    {
     "name": "stdout",
     "output_type": "stream",
     "text": [
      "check that isfinite values + null values comprises all values: \n",
      "master dataframe:  859205\n",
      "null values:  25023\n",
      "isfinite values:  834182\n"
     ]
    }
   ],
   "source": [
    "df = Lat_Long_File[np.isfinite(Lat_Long_File['XCoord'])]\n",
    "print \"check that isfinite values + null values comprises all values: \"\n",
    "print \"master dataframe: \", Lat_Long_File.shape[0]\n",
    "print \"null values: \",Lat_Long_File.XCoord.isnull().sum() \n",
    "print \"isfinite values: \",df.shape[0]"
   ]
  },
  {
   "cell_type": "markdown",
   "metadata": {
    "collapsed": false
   },
   "source": [
    "Transform coordinates ..."
   ]
  },
  {
   "cell_type": "code",
   "execution_count": 24,
   "metadata": {
    "collapsed": false
   },
   "outputs": [
    {
     "name": "stdout",
     "output_type": "stream",
     "text": [
      "pre-transformation dataframe shape:  (834182, 87)\n",
      "post-transformation dataframe shape:  (834182, 89)\n"
     ]
    }
   ],
   "source": [
    "print 'pre-transformation dataframe shape: ', df.shape\n",
    "x = df['XCoord'].tolist()\n",
    "x = map(int, x)\n",
    "y = df['YCoord'].tolist()\n",
    "y = map(int, y)\n",
    "\n",
    "\n",
    "transformed_x, transformed_y = pp.transform(spft, wgs84, x,y)\n",
    "\n",
    "df['Long'] = transformed_x\n",
    "df['Lat'] = transformed_y\n",
    "print \"post-transformation dataframe shape: \", df.shape"
   ]
  },
  {
   "cell_type": "code",
   "execution_count": 13,
   "metadata": {
    "collapsed": false
   },
   "outputs": [
    {
     "name": "stdout",
     "output_type": "stream",
     "text": [
      "Number of unique longitude entries:  834154\n"
     ]
    }
   ],
   "source": [
    "print \"Number of unique longitude entries: \", len(df['Long'].unique())"
   ]
  },
  {
   "cell_type": "markdown",
   "metadata": {},
   "source": [
    "<a id='load'></a>\n",
    "### Write results to file: "
   ]
  },
  {
   "cell_type": "code",
   "execution_count": 15,
   "metadata": {
    "collapsed": false
   },
   "outputs": [],
   "source": [
    "path2 = \"/masked/nyc_project/\"\n",
    "df.to_csv(path2 + 'All_tax_classes_Lat_Long_w_89_variables.csv', index=False)"
   ]
  }
 ],
 "metadata": {
  "kernelspec": {
   "display_name": "Python 2",
   "language": "python",
   "name": "python2"
  },
  "language_info": {
   "codemirror_mode": {
    "name": "ipython",
    "version": 2
   },
   "file_extension": ".py",
   "mimetype": "text/x-python",
   "name": "python",
   "nbconvert_exporter": "python",
   "pygments_lexer": "ipython2",
   "version": "2.7.13"
  }
 },
 "nbformat": 4,
 "nbformat_minor": 0
}
